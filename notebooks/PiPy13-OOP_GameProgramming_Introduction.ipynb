{
 "cells": [
  {
   "cell_type": "markdown",
   "metadata": {},
   "source": [
    "# 게임 프로그래밍 안내"
   ]
  },
  {
   "cell_type": "markdown",
   "metadata": {},
   "source": [
    "파이썬 게임 프로그래밍 관련 정보를 제공한다.\n",
    "`pygame`, `turtle` 등을 활용하여 단순한 게임부터 상당한 수준을 갖춘 게임을 구현할 수 있다.\n",
    "여기서 제공하는 게임은 2차원 그래픽만 지원하는 도구를 사용한다.\n",
    "하지만 게임 프로그래밍의 기본을 확실하게 다지기 위한 자료로 아주 훌륭하게 사용될 수 있다."
   ]
  },
  {
   "cell_type": "markdown",
   "metadata": {},
   "source": [
    "## 교재 수준 안내서"
   ]
  },
  {
   "cell_type": "markdown",
   "metadata": {},
   "source": [
    "### Program Arcade Games With Python And Pygame"
   ]
  },
  {
   "cell_type": "markdown",
   "metadata": {},
   "source": [
    "* 게임 프로그래밍을 이용한 프로그래밍 학습\n",
    "* 챕터별로 게임을 이용하여 프로그래밍 기본 요소 설명\n",
    "* 그래픽 도구: pygame\n",
    "* 주소: http://programarcadegames.com/index.php\n",
    "* [부록 A](http://programarcadegames.com/index.php?chapter=example_code)에서 다양한 게임 코드 제공"
   ]
  },
  {
   "cell_type": "markdown",
   "metadata": {},
   "source": [
    "### Invent your own computer games with python"
   ]
  },
  {
   "cell_type": "markdown",
   "metadata": {},
   "source": [
    "* 단순하지만 게임 프로그래밍의 핵심을 다양한 예제를 통해 전달하는 책.\n",
    "* 그래픽 도구: pygame\n",
    "* 웹페이지(4판): https://inventwithpython.com/invent4thed/\n",
    "* 깃허브(3판): https://github.com/asweigart/inventwithpython3rded\n",
    "* 번역서: [나만의 Python Game 만들기](https://www.aladin.co.kr/shop/wproduct.aspx?ItemId=43534988)\n",
    "    * 2판 또는 3판 버전의 번역서임. 하지만 4판과 크게 다르지 않음. \n",
    "        영어가 부담스러울 경우 이 책을 구입하여 공부할 것 추천."
   ]
  },
  {
   "cell_type": "markdown",
   "metadata": {},
   "source": [
    "## 코드와 동영상 동시 제공"
   ]
  },
  {
   "cell_type": "markdown",
   "metadata": {},
   "source": [
    "### Python Game Coding"
   ]
  },
  {
   "cell_type": "markdown",
   "metadata": {},
   "source": [
    "* 체계적이며 완성도 높은 게임 프로그래밍 설명\n",
    "* 유튜브 동영상 제공\n",
    "* 그래픽 도구: turtle\n",
    "* 주소: http://christianthompson.com/\n",
    "* 체계적인 설명"
   ]
  },
  {
   "cell_type": "markdown",
   "metadata": {},
   "source": [
    "## 동영상 제공"
   ]
  },
  {
   "cell_type": "markdown",
   "metadata": {},
   "source": [
    "### freeCodeCamp.org"
   ]
  },
  {
   "cell_type": "markdown",
   "metadata": {},
   "source": [
    "* 다양한 파이썬 게임 프로그래밍 유튜브 동영상 제공\n",
    "* 주소: https://www.youtube.com/channel/UC8butISFwT-Wl7EV0hUK0BQ/search?query=python+game"
   ]
  },
  {
   "cell_type": "markdown",
   "metadata": {},
   "source": [
    "## 코드 제공"
   ]
  },
  {
   "cell_type": "markdown",
   "metadata": {},
   "source": [
    "### 지뢰찾기\n",
    "\n",
    "#### 버전 1\n",
    "* 게임 프로그래밍 기본 제공. 그래픽 지원 없음.\n",
    "* pygame 등을 이용하여 완성 가능\n",
    "* 주소: https://github.com/CodingRG-HKNU/Python_MineSweeper\n",
    "\n",
    "#### 버전 2\n",
    "* 버전 1에 pygame 그래픽이 추가되었음.\n",
    "* 다양한 기능을 추가하여 완성도를 높일 수 있음.\n",
    "* 주소: https://github.com/CodingRG-HKNU/MineSweeper"
   ]
  },
  {
   "cell_type": "markdown",
   "metadata": {},
   "source": [
    "## 기타"
   ]
  },
  {
   "cell_type": "markdown",
   "metadata": {},
   "source": [
    "다음 키워드로 검색하면 친절한 설명으로 게임 프로그래밍 설명하는 사이트를 쉽게 찾을 수 있음.\n",
    "\n",
    "* 파이썬 게임 프로그래밍, \n",
    "* 파이썬 pygame 게임 프로그래밍, \n",
    "* python game programming, \n",
    "* python pygame programming, 등등\n",
    "\n",
    "예를 들어, '초보자용 파이썬 입문서' 는 초보자를 위한 친절한 게임 프로그래밍 설명을 제공한다. \n",
    "\n",
    "* 12장 응용 프로그램 만들기: https://python.bakyeono.net/chapter-12.html"
   ]
  }
 ],
 "metadata": {
  "kernelspec": {
   "display_name": "Python 3",
   "language": "python",
   "name": "python3"
  },
  "language_info": {
   "codemirror_mode": {
    "name": "ipython",
    "version": 3
   },
   "file_extension": ".py",
   "mimetype": "text/x-python",
   "name": "python",
   "nbconvert_exporter": "python",
   "pygments_lexer": "ipython3",
   "version": "3.7.6"
  }
 },
 "nbformat": 4,
 "nbformat_minor": 2
}
